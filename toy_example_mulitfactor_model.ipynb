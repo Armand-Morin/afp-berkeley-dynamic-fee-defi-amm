{
 "cells": [
  {
   "cell_type": "code",
   "execution_count": 1,
   "metadata": {},
   "outputs": [
    {
     "name": "stdout",
     "output_type": "stream",
     "text": [
      "Intel MKL WARNING: Support of Intel(R) Streaming SIMD Extensions 4.2 (Intel(R) SSE4.2) enabled only processors has been deprecated. Intel oneAPI Math Kernel Library 2025.0 will require Intel(R) Advanced Vector Extensions (Intel(R) AVX) instructions.\n",
      "Intel MKL WARNING: Support of Intel(R) Streaming SIMD Extensions 4.2 (Intel(R) SSE4.2) enabled only processors has been deprecated. Intel oneAPI Math Kernel Library 2025.0 will require Intel(R) Advanced Vector Extensions (Intel(R) AVX) instructions.\n",
      "   amount1  arb_pnl   std  arb_pnl_fee  std_fee  amount1_fee  \\\n",
      "0     -100     0.02  0.10         0.10    0.010     0.010000   \n",
      "1      -50     0.01  0.20         0.01    0.055     0.010000   \n",
      "4      -30     0.01  0.15         0.01    0.010     0.035714   \n",
      "\n",
      "   arb_pnl_weighted_fee  std_weighted_fee  amount1_weighted_fee  combined_fee  \n",
      "0                 0.030             0.002              0.005000       0.00032  \n",
      "1                 0.003             0.011              0.005000       0.00014  \n",
      "4                 0.003             0.002              0.017857       0.00005  \n"
     ]
    },
    {
     "data": {
      "text/plain": [
       "{'arb_pnl': 0.3, 'std': 0.2, 'amount1': 0.5}"
      ]
     },
     "execution_count": 1,
     "metadata": {},
     "output_type": "execute_result"
    }
   ],
   "source": [
    "import pandas as pd\n",
    "import numpy as np\n",
    "\n",
    "# Toy dataset\n",
    "data_filtered = pd.DataFrame({\n",
    "    'amount1': [-100, -50, 100, 50, -30],  # Negative values for buy transactions\n",
    "    'arb_pnl': [0.02, 0.01, 0.03, 0.04, 0.01],\n",
    "    'std': [0.1, 0.2, 0.15, 0.05, 0.15]\n",
    "})\n",
    "\n",
    "# Parameters for quantile calculations\n",
    "params = {\n",
    "    'arb_pnl': {'lower_quantile': 0.25, 'upper_quantile': 0.75},\n",
    "    'amount1': {'lower_quantile': 0.25, 'upper_quantile': 0.75},\n",
    "    'std': {'lower_quantile': 0.25, 'upper_quantile': 0.75}\n",
    "}\n",
    "\n",
    "# Fees range\n",
    "f_min, f_max = 0.01, 0.1\n",
    "\n",
    "# Isolate buy transactions\n",
    "buy_subset = data_filtered[data_filtered['amount1'] < 0].copy()\n",
    "\n",
    "features = ['arb_pnl', 'std', 'amount1']\n",
    "for f in features:\n",
    "    # Calculate quantile thresholds\n",
    "    scale_min = buy_subset[f].quantile(params[f]['upper_quantile'])\n",
    "    scale_max = buy_subset[f].quantile(params[f]['lower_quantile'])\n",
    "    \n",
    "    # Compute weight for fee adjustment (simplified example calculation)\n",
    "    w_buy = np.abs((f_max - f_min) / (scale_max - scale_min))\n",
    "    \n",
    "    # Apply fee calculation (simplified as a function of the feature value and weight)\n",
    "    buy_subset[f'{f}_fee'] = buy_subset[f].apply(lambda x: max(f_min, min(f_max, f_min + w_buy * (x - scale_min))))\n",
    "\n",
    "# Assume equal importance for simplicity\n",
    "features_importance_normalized = {'arb_pnl': 0.3, 'std': 0.2, 'amount1': 0.5}\n",
    "\n",
    "# Apply feature importances as weights\n",
    "for f in features:\n",
    "    weight = features_importance_normalized[f]\n",
    "    buy_subset[f'{f}_weighted_fee'] = buy_subset[f'{f}_fee'] * weight\n",
    "\n",
    "# Sum weighted fees to get a combined fee and normalize\n",
    "buy_subset['combined_fee'] = buy_subset[['arb_pnl_weighted_fee', 'std_weighted_fee']].sum(axis=1) / 100\n",
    "\n",
    "print(buy_subset)#[['arb_pnl', 'std', 'arb_pnl_fee', 'std_fee', 'combined_fee']])\n",
    "features_importance_normalized\n"
   ]
  },
  {
   "cell_type": "code",
   "execution_count": null,
   "metadata": {},
   "outputs": [],
   "source": []
  }
 ],
 "metadata": {
  "kernelspec": {
   "display_name": "base",
   "language": "python",
   "name": "python3"
  },
  "language_info": {
   "codemirror_mode": {
    "name": "ipython",
    "version": 3
   },
   "file_extension": ".py",
   "mimetype": "text/x-python",
   "name": "python",
   "nbconvert_exporter": "python",
   "pygments_lexer": "ipython3",
   "version": "3.9.16"
  }
 },
 "nbformat": 4,
 "nbformat_minor": 2
}
