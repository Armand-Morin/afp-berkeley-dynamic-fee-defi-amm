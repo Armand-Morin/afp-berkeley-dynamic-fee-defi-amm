{
 "cells": [
  {
   "cell_type": "code",
   "execution_count": 1,
   "id": "23d6f6be-27d4-4b6a-a439-0748ecad0e57",
   "metadata": {},
   "outputs": [],
   "source": [
    "import numpy as np\n",
    "import pandas as pd\n",
    "import matplotlib.pyplot as plt\n",
    "import seaborn as sns\n",
    "import warnings\n",
    "warnings.filterwarnings(\"ignore\")"
   ]
  },
  {
   "cell_type": "code",
   "execution_count": 2,
   "id": "f86da546-d357-4fdd-82c2-a4625277c595",
   "metadata": {},
   "outputs": [
    {
     "data": {
      "text/html": [
       "<div>\n",
       "<style scoped>\n",
       "    .dataframe tbody tr th:only-of-type {\n",
       "        vertical-align: middle;\n",
       "    }\n",
       "\n",
       "    .dataframe tbody tr th {\n",
       "        vertical-align: top;\n",
       "    }\n",
       "\n",
       "    .dataframe thead th {\n",
       "        text-align: right;\n",
       "    }\n",
       "</style>\n",
       "<table border=\"1\" class=\"dataframe\">\n",
       "  <thead>\n",
       "    <tr style=\"text-align: right;\">\n",
       "      <th></th>\n",
       "      <th>trade ID</th>\n",
       "      <th>price</th>\n",
       "      <th>qty</th>\n",
       "      <th>base_qty</th>\n",
       "      <th>time</th>\n",
       "      <th>is_buyer_maker</th>\n",
       "      <th></th>\n",
       "    </tr>\n",
       "  </thead>\n",
       "  <tbody>\n",
       "    <tr>\n",
       "      <th>0</th>\n",
       "      <td>33165689</td>\n",
       "      <td>2281.65</td>\n",
       "      <td>0.0888</td>\n",
       "      <td>202.610520</td>\n",
       "      <td>2024-01-01 00:00:03.953</td>\n",
       "      <td>False</td>\n",
       "      <td>True</td>\n",
       "    </tr>\n",
       "    <tr>\n",
       "      <th>1</th>\n",
       "      <td>33165690</td>\n",
       "      <td>2281.38</td>\n",
       "      <td>0.0060</td>\n",
       "      <td>13.688280</td>\n",
       "      <td>2024-01-01 00:00:12.961</td>\n",
       "      <td>True</td>\n",
       "      <td>True</td>\n",
       "    </tr>\n",
       "    <tr>\n",
       "      <th>2</th>\n",
       "      <td>33165691</td>\n",
       "      <td>2281.19</td>\n",
       "      <td>1.0789</td>\n",
       "      <td>2461.175891</td>\n",
       "      <td>2024-01-01 00:00:12.961</td>\n",
       "      <td>True</td>\n",
       "      <td>True</td>\n",
       "    </tr>\n",
       "    <tr>\n",
       "      <th>3</th>\n",
       "      <td>33165692</td>\n",
       "      <td>2281.19</td>\n",
       "      <td>0.1851</td>\n",
       "      <td>422.248269</td>\n",
       "      <td>2024-01-01 00:00:12.962</td>\n",
       "      <td>True</td>\n",
       "      <td>True</td>\n",
       "    </tr>\n",
       "    <tr>\n",
       "      <th>4</th>\n",
       "      <td>33165693</td>\n",
       "      <td>2281.19</td>\n",
       "      <td>0.5748</td>\n",
       "      <td>1311.228012</td>\n",
       "      <td>2024-01-01 00:00:12.962</td>\n",
       "      <td>True</td>\n",
       "      <td>True</td>\n",
       "    </tr>\n",
       "  </tbody>\n",
       "</table>\n",
       "</div>"
      ],
      "text/plain": [
       "   trade ID    price     qty     base_qty                    time  \\\n",
       "0  33165689  2281.65  0.0888   202.610520 2024-01-01 00:00:03.953   \n",
       "1  33165690  2281.38  0.0060    13.688280 2024-01-01 00:00:12.961   \n",
       "2  33165691  2281.19  1.0789  2461.175891 2024-01-01 00:00:12.961   \n",
       "3  33165692  2281.19  0.1851   422.248269 2024-01-01 00:00:12.962   \n",
       "4  33165693  2281.19  0.5748  1311.228012 2024-01-01 00:00:12.962   \n",
       "\n",
       "   is_buyer_maker        \n",
       "0           False  True  \n",
       "1            True  True  \n",
       "2            True  True  \n",
       "3            True  True  \n",
       "4            True  True  "
      ]
     },
     "execution_count": 2,
     "metadata": {},
     "output_type": "execute_result"
    }
   ],
   "source": [
    "files = ['ETHUSDC-trades-2024-01.csv']\n",
    "column_headings = ['trade ID', 'price', 'qty', 'base_qty', 'time', 'is_buyer_maker', '']\n",
    "\n",
    "df_cex = pd.DataFrame()\n",
    "dfs = []\n",
    "for file in files:\n",
    "    data = pd.read_csv(file, header = None, index_col = False)\n",
    "    dfs.append(data)\n",
    "\n",
    "df_cex = pd.concat(dfs, ignore_index=True)\n",
    "df_cex.columns = column_headings\n",
    "\n",
    "df_cex['time'] = pd.to_datetime(df_cex['time'], unit = 'ms')\n",
    "df_cex.head()"
   ]
  },
  {
   "cell_type": "code",
   "execution_count": 3,
   "id": "e1f570d2-66f3-428e-8678-033de290e020",
   "metadata": {},
   "outputs": [
    {
     "data": {
      "text/plain": [
       "786022"
      ]
     },
     "execution_count": 3,
     "metadata": {},
     "output_type": "execute_result"
    }
   ],
   "source": [
    "df_cex.shape[0]"
   ]
  },
  {
   "cell_type": "code",
   "execution_count": 4,
   "id": "b0f0853a-6877-4426-8794-d99cb455e574",
   "metadata": {},
   "outputs": [
    {
     "data": {
      "text/html": [
       "<div>\n",
       "<style scoped>\n",
       "    .dataframe tbody tr th:only-of-type {\n",
       "        vertical-align: middle;\n",
       "    }\n",
       "\n",
       "    .dataframe tbody tr th {\n",
       "        vertical-align: top;\n",
       "    }\n",
       "\n",
       "    .dataframe thead th {\n",
       "        text-align: right;\n",
       "    }\n",
       "</style>\n",
       "<table border=\"1\" class=\"dataframe\">\n",
       "  <thead>\n",
       "    <tr style=\"text-align: right;\">\n",
       "      <th></th>\n",
       "      <th>amount0</th>\n",
       "      <th>amount1</th>\n",
       "      <th>amountUSD</th>\n",
       "      <th>origin</th>\n",
       "      <th>sender</th>\n",
       "      <th>recipient</th>\n",
       "      <th>timestamp</th>\n",
       "      <th>gasUsed</th>\n",
       "      <th>gasPrice_wei</th>\n",
       "      <th>gasPrice_eth</th>\n",
       "      <th>blockNumber</th>\n",
       "      <th>symbol0</th>\n",
       "      <th>symbol1</th>\n",
       "      <th>price</th>\n",
       "      <th>tcost_usd</th>\n",
       "      <th>time</th>\n",
       "    </tr>\n",
       "  </thead>\n",
       "  <tbody>\n",
       "    <tr>\n",
       "      <th>0</th>\n",
       "      <td>7695.197656</td>\n",
       "      <td>-3.368874</td>\n",
       "      <td>7687.888507</td>\n",
       "      <td>0xd36aac0c9676e984d72823fb662ce94d3ab5e551</td>\n",
       "      <td>0x68b3465833fb72a70ecdf485e0e4c7bd8665fc45</td>\n",
       "      <td>0xea749fd6ba492dbc14c24fe8a3d08769229b896c</td>\n",
       "      <td>1.706746e+09</td>\n",
       "      <td>720697</td>\n",
       "      <td>2.004517e+10</td>\n",
       "      <td>2.004517e-08</td>\n",
       "      <td>19129888</td>\n",
       "      <td>USDC</td>\n",
       "      <td>WETH</td>\n",
       "      <td>2283.160587</td>\n",
       "      <td>32.983659</td>\n",
       "      <td>2024-01-31 23:59:59</td>\n",
       "    </tr>\n",
       "    <tr>\n",
       "      <th>1</th>\n",
       "      <td>164318.889753</td>\n",
       "      <td>-71.961440</td>\n",
       "      <td>164190.258312</td>\n",
       "      <td>0x1fd0c666094d8c5dae247aa6c3c4c33fd21bdc91</td>\n",
       "      <td>0xe37e799d5077682fa0a244d46e5649f71457bd09</td>\n",
       "      <td>0xe37e799d5077682fa0a244d46e5649f71457bd09</td>\n",
       "      <td>1.706746e+09</td>\n",
       "      <td>1673514</td>\n",
       "      <td>2.378692e+10</td>\n",
       "      <td>2.378692e-08</td>\n",
       "      <td>19129888</td>\n",
       "      <td>USDC</td>\n",
       "      <td>WETH</td>\n",
       "      <td>2283.160587</td>\n",
       "      <td>90.887475</td>\n",
       "      <td>2024-01-31 23:59:59</td>\n",
       "    </tr>\n",
       "    <tr>\n",
       "      <th>2</th>\n",
       "      <td>1000.000000</td>\n",
       "      <td>-0.437797</td>\n",
       "      <td>999.056241</td>\n",
       "      <td>0xe86866e5f456d5f986cec61e43bfcec6065b80eb</td>\n",
       "      <td>0x3fc91a3afd70395cd496c647d5a6cc9d4b2b7fad</td>\n",
       "      <td>0x3fc91a3afd70395cd496c647d5a6cc9d4b2b7fad</td>\n",
       "      <td>1.706746e+09</td>\n",
       "      <td>279656</td>\n",
       "      <td>2.268775e+10</td>\n",
       "      <td>2.268775e-08</td>\n",
       "      <td>19129888</td>\n",
       "      <td>USDC</td>\n",
       "      <td>WETH</td>\n",
       "      <td>2283.160587</td>\n",
       "      <td>14.486120</td>\n",
       "      <td>2024-01-31 23:59:59</td>\n",
       "    </tr>\n",
       "    <tr>\n",
       "      <th>3</th>\n",
       "      <td>15000.000000</td>\n",
       "      <td>-6.571360</td>\n",
       "      <td>14990.873565</td>\n",
       "      <td>0xcf99f91f0d834f26b8e7267ee99203bef3648edd</td>\n",
       "      <td>0x3fc91a3afd70395cd496c647d5a6cc9d4b2b7fad</td>\n",
       "      <td>0x3fc91a3afd70395cd496c647d5a6cc9d4b2b7fad</td>\n",
       "      <td>1.706746e+09</td>\n",
       "      <td>280947</td>\n",
       "      <td>2.010458e+10</td>\n",
       "      <td>2.010458e-08</td>\n",
       "      <td>19129887</td>\n",
       "      <td>USDC</td>\n",
       "      <td>WETH</td>\n",
       "      <td>2281.563014</td>\n",
       "      <td>12.887003</td>\n",
       "      <td>2024-01-31 23:59:47</td>\n",
       "    </tr>\n",
       "    <tr>\n",
       "      <th>4</th>\n",
       "      <td>-2280.293805</td>\n",
       "      <td>1.000000</td>\n",
       "      <td>2280.074254</td>\n",
       "      <td>0x1b0cae4374ebc96289d8dab50eeffc20d3528503</td>\n",
       "      <td>0x68b3465833fb72a70ecdf485e0e4c7bd8665fc45</td>\n",
       "      <td>0x1b0cae4374ebc96289d8dab50eeffc20d3528503</td>\n",
       "      <td>1.706746e+09</td>\n",
       "      <td>284804</td>\n",
       "      <td>3.171776e+10</td>\n",
       "      <td>3.171776e-08</td>\n",
       "      <td>19129885</td>\n",
       "      <td>USDC</td>\n",
       "      <td>WETH</td>\n",
       "      <td>2281.563014</td>\n",
       "      <td>20.610146</td>\n",
       "      <td>2024-01-31 23:59:23</td>\n",
       "    </tr>\n",
       "  </tbody>\n",
       "</table>\n",
       "</div>"
      ],
      "text/plain": [
       "         amount0    amount1      amountUSD  \\\n",
       "0    7695.197656  -3.368874    7687.888507   \n",
       "1  164318.889753 -71.961440  164190.258312   \n",
       "2    1000.000000  -0.437797     999.056241   \n",
       "3   15000.000000  -6.571360   14990.873565   \n",
       "4   -2280.293805   1.000000    2280.074254   \n",
       "\n",
       "                                       origin  \\\n",
       "0  0xd36aac0c9676e984d72823fb662ce94d3ab5e551   \n",
       "1  0x1fd0c666094d8c5dae247aa6c3c4c33fd21bdc91   \n",
       "2  0xe86866e5f456d5f986cec61e43bfcec6065b80eb   \n",
       "3  0xcf99f91f0d834f26b8e7267ee99203bef3648edd   \n",
       "4  0x1b0cae4374ebc96289d8dab50eeffc20d3528503   \n",
       "\n",
       "                                       sender  \\\n",
       "0  0x68b3465833fb72a70ecdf485e0e4c7bd8665fc45   \n",
       "1  0xe37e799d5077682fa0a244d46e5649f71457bd09   \n",
       "2  0x3fc91a3afd70395cd496c647d5a6cc9d4b2b7fad   \n",
       "3  0x3fc91a3afd70395cd496c647d5a6cc9d4b2b7fad   \n",
       "4  0x68b3465833fb72a70ecdf485e0e4c7bd8665fc45   \n",
       "\n",
       "                                    recipient     timestamp  gasUsed  \\\n",
       "0  0xea749fd6ba492dbc14c24fe8a3d08769229b896c  1.706746e+09   720697   \n",
       "1  0xe37e799d5077682fa0a244d46e5649f71457bd09  1.706746e+09  1673514   \n",
       "2  0x3fc91a3afd70395cd496c647d5a6cc9d4b2b7fad  1.706746e+09   279656   \n",
       "3  0x3fc91a3afd70395cd496c647d5a6cc9d4b2b7fad  1.706746e+09   280947   \n",
       "4  0x1b0cae4374ebc96289d8dab50eeffc20d3528503  1.706746e+09   284804   \n",
       "\n",
       "   gasPrice_wei  gasPrice_eth  blockNumber symbol0 symbol1        price  \\\n",
       "0  2.004517e+10  2.004517e-08     19129888    USDC    WETH  2283.160587   \n",
       "1  2.378692e+10  2.378692e-08     19129888    USDC    WETH  2283.160587   \n",
       "2  2.268775e+10  2.268775e-08     19129888    USDC    WETH  2283.160587   \n",
       "3  2.010458e+10  2.010458e-08     19129887    USDC    WETH  2281.563014   \n",
       "4  3.171776e+10  3.171776e-08     19129885    USDC    WETH  2281.563014   \n",
       "\n",
       "   tcost_usd                time  \n",
       "0  32.983659 2024-01-31 23:59:59  \n",
       "1  90.887475 2024-01-31 23:59:59  \n",
       "2  14.486120 2024-01-31 23:59:59  \n",
       "3  12.887003 2024-01-31 23:59:47  \n",
       "4  20.610146 2024-01-31 23:59:23  "
      ]
     },
     "execution_count": 4,
     "metadata": {},
     "output_type": "execute_result"
    }
   ],
   "source": [
    "dex_file_path = 'data_UV3_WETH_USDC_January2024.pkl'\n",
    "df_dex = pd.read_pickle(dex_file_path)\n",
    "df_dex.head()"
   ]
  },
  {
   "cell_type": "code",
   "execution_count": 5,
   "id": "f6fd5ec6-3217-454d-ad8c-af3b3d95532c",
   "metadata": {},
   "outputs": [
    {
     "data": {
      "text/plain": [
       "786022"
      ]
     },
     "execution_count": 5,
     "metadata": {},
     "output_type": "execute_result"
    }
   ],
   "source": [
    "df_cex.shape[0]"
   ]
  },
  {
   "cell_type": "markdown",
   "id": "f09c3832-4cbf-4536-8a64-5c04f1ba6d2a",
   "metadata": {},
   "source": [
    "Assumptions made:\n",
    "1. Trade Size: Arbitrageurs execute larger trades compared to noise traders. We assume a certain threshold to classify a trade as \"large\" based on the dataset's distribution.\n",
    "2. Trade Timing: Fast execution after price discrepancies are identified is key for arbitrage. We'll assume trades following significant price movements within a short timeframe indicate arbitrage.\n",
    "3. Trading Frequency: High frequency of trades by a single sender within a short period may indicate an arbitrage strategy.\n",
    "4. Market Conditions and Price Impact: Without explicit data on other market prices, we'll use large price movements in the DEX as a proxy for potential arbitrage opportunities.\n",
    "5. Slippage and Transaction Costs: This model assumes that arbitrageurs are successful in managing slippage and costs effectively, but we lack the data to measure this directly."
   ]
  },
  {
   "cell_type": "code",
   "execution_count": 6,
   "id": "3f45a635-558b-4307-96da-18bd05ece548",
   "metadata": {},
   "outputs": [
    {
     "data": {
      "text/plain": [
       "283"
      ]
     },
     "execution_count": 6,
     "metadata": {},
     "output_type": "execute_result"
    }
   ],
   "source": [
    "unique_senders = df_dex['sender'].unique()\n",
    "len(unique_senders)"
   ]
  },
  {
   "cell_type": "code",
   "execution_count": 7,
   "id": "125bda66-ec16-4814-a2ca-934e273227ad",
   "metadata": {},
   "outputs": [],
   "source": [
    "def classify_traders_by_threshold(df_dex, threshold):\n",
    "    \"\"\"\n",
    "    Classify traders based on a given threshold and return the counts of arbitrageurs and noise traders.\n",
    "    \"\"\"\n",
    "    large_trade_threshold = df_dex['amountUSD'].quantile(threshold / 100.0)\n",
    "    trader_classification = {}\n",
    "\n",
    "    for sender in df_dex['sender'].unique():\n",
    "        total_trade_amount_by_sender = df_dex[df_dex['sender'] == sender]['amountUSD'].sum()\n",
    "        trader_classification[sender] = 'Arbitrageur' if total_trade_amount_by_sender >= large_trade_threshold else 'Noise Trader'\n",
    "    \n",
    "    # Count classifications\n",
    "    classification_counts = {'Arbitrageur': 0, 'Noise Trader': 0}\n",
    "    for classification in trader_classification.values():\n",
    "        classification_counts[classification] += 1\n",
    "    \n",
    "    return classification_counts"
   ]
  },
  {
   "cell_type": "code",
   "execution_count": 8,
   "id": "0fcb4cce-1e4d-4ced-9a04-e525e4cb05f3",
   "metadata": {},
   "outputs": [],
   "source": [
    "thresholds = np.arange(50, 95, 5)"
   ]
  },
  {
   "cell_type": "code",
   "execution_count": 9,
   "id": "0a7a51f7-548f-4acd-9591-020b2261e72a",
   "metadata": {},
   "outputs": [],
   "source": [
    "classification_counts_by_threshold = {t: {'Arbitrageur': 0, 'Noise Trader': 0} for t in thresholds}\n",
    "for t in thresholds:\n",
    "    classification_counts_by_threshold[t] = classify_traders_by_threshold(df_dex, t)"
   ]
  },
  {
   "cell_type": "code",
   "execution_count": 10,
   "id": "4d9bfa00-7d84-47e5-bad9-a921a5624eca",
   "metadata": {},
   "outputs": [
    {
     "data": {
      "image/png": "[encoded data removed]",
      "text/plain": [
       "<Figure size 1000x600 with 1 Axes>"
      ]
     },
     "metadata": {},
     "output_type": "display_data"
    }
   ],
   "source": [
    "plt.figure(figsize=(10, 6))\n",
    "\n",
    "arbitrageur_counts = [classification_counts_by_threshold[t]['Arbitrageur'] for t in thresholds]\n",
    "noise_trader_counts = [classification_counts_by_threshold[t]['Noise Trader'] for t in thresholds]\n",
    "\n",
    "# Creating a bar plot for arbitrageurs\n",
    "plt.plot(thresholds, arbitrageur_counts, label='Arbitrageur', marker='o')\n",
    "\n",
    "# Creating a bar plot for noise traders\n",
    "plt.plot(thresholds, noise_trader_counts, label='Noise Trader', marker='o')\n",
    "\n",
    "plt.title('Comparison of Trader Classifications Across Thresholds')\n",
    "plt.xlabel('Threshold (%)')\n",
    "plt.ylabel('Count')\n",
    "plt.xticks(thresholds)\n",
    "plt.legend()\n",
    "plt.grid(True)\n",
    "plt.show()"
   ]
  },
  {
   "cell_type": "code",
   "execution_count": 11,
   "id": "c6d029a0-97d7-49b4-b693-0c466195c449",
   "metadata": {},
   "outputs": [],
   "source": [
    "def isArbitrageurV2(sender, df_dex, df_cex, price_difference_threshold):\n",
    "    sender_trades = df_dex[df_dex['sender'] == sender]\n",
    "    is_arbitrageur = False\n",
    "    \n",
    "    for index, trade in sender_trades.iterrows():\n",
    "        # Ensure time columns are compatible for subtraction\n",
    "        trade_time = pd.to_datetime(trade['timestamp'])  # Ensure column name matches your dataset\n",
    "        df_cex['time'] = pd.to_datetime(df_cex['time'])  # Convert CEX 'time' column to datetime if not already\n",
    "        \n",
    "        # Find the closest CEX trade by timestamp\n",
    "        closest_cex_trade = df_cex.iloc[(df_cex['time'] - trade_time).abs().argsort()[:1]]\n",
    "        \n",
    "        if not closest_cex_trade.empty:\n",
    "            cex_price = closest_cex_trade['price'].iloc[0]\n",
    "            price_difference = abs(trade['price'] - cex_price) / cex_price\n",
    "            \n",
    "            # Check for significant price difference\n",
    "            if price_difference >= price_difference_threshold:\n",
    "                # Check if there's a next trade in DEX data\n",
    "                if index + 1 < len(sender_trades):\n",
    "                    next_trade = sender_trades.iloc[index + 1]\n",
    "                    next_trade_time = pd.to_datetime(next_trade['timestamp'])  # Ensure column name matches\n",
    "                    if abs(next_trade['price'] - cex_price) < abs(trade['price'] - cex_price):\n",
    "                        is_arbitrageur = True\n",
    "                        break\n",
    "    \n",
    "    return is_arbitrageur"
   ]
  },
  {
   "cell_type": "code",
   "execution_count": 12,
   "id": "9df8cdb6-924e-460d-9aac-b2ee2c0654b0",
   "metadata": {},
   "outputs": [
    {
     "data": {
      "image/png": "[encoded data removed]",
      "text/plain": [
       "<Figure size 1000x600 with 1 Axes>"
      ]
     },
     "metadata": {},
     "output_type": "display_data"
    }
   ],
   "source": [
    "def classify_all_traders_v2(df_dex, df_cex, price_difference_threshold):\n",
    "    unique_senders = df_dex['sender'].unique()\n",
    "    classification_results = {'Arbitrageur': 0, 'Noise Trader': 0}\n",
    "    \n",
    "    for sender in unique_senders:\n",
    "        if isArbitrageurV2(sender, df_dex, df_cex, price_difference_threshold):\n",
    "            classification_results['Arbitrageur'] += 1\n",
    "        else:\n",
    "            classification_results['Noise Trader'] += 1\n",
    "    \n",
    "    return classification_results\n",
    "\n",
    "# Varying price_difference_thresholds for comparison\n",
    "thresholds = [0.005, 0.01, 0.02]  # Example thresholds\n",
    "results = {}\n",
    "\n",
    "for threshold in thresholds:\n",
    "    results[threshold] = classify_all_traders_v2(df_dex, df_cex, threshold)\n",
    "\n",
    "# Plotting the results\n",
    "plt.figure(figsize=(10, 6))\n",
    "\n",
    "for threshold, classification_counts in results.items():\n",
    "    plt.bar(str(threshold), classification_counts['Arbitrageur'], label=f'Arbitrageur {threshold}')\n",
    "\n",
    "plt.title('Number of Arbitrageurs at Different Price Difference Thresholds')\n",
    "plt.xlabel('Price Difference Threshold')\n",
    "plt.ylabel('Number of Arbitrageurs')\n",
    "plt.legend()\n",
    "plt.show()"
   ]
  },
  {
   "cell_type": "code",
   "execution_count": 13,
   "id": "5de64aca-9fc4-4141-b090-4712d8ec149b",
   "metadata": {},
   "outputs": [
    {
     "ename": "NameError",
     "evalue": "name 'isArbitrageur' is not defined",
     "output_type": "error",
     "traceback": [
      "\u001b[0;31m---------------------------------------------------------------------------\u001b[0m",
      "\u001b[0;31mNameError\u001b[0m                                 Traceback (most recent call last)",
      "\u001b[0;32m/var/folders/3_/xg2bm35926972sj8s48n40sh0000gn/T/ipykernel_71400/1997499086.py\u001b[0m in \u001b[0;36m<module>\u001b[0;34m\u001b[0m\n\u001b[1;32m      1\u001b[0m \u001b[0mx\u001b[0m \u001b[0;34m=\u001b[0m \u001b[0;34m'0xe37e799d5077682fa0a244d46e5649f71457bd09'\u001b[0m\u001b[0;34m\u001b[0m\u001b[0;34m\u001b[0m\u001b[0m\n\u001b[0;32m----> 2\u001b[0;31m \u001b[0misArbitrageur\u001b[0m\u001b[0;34m(\u001b[0m\u001b[0mx\u001b[0m\u001b[0;34m,\u001b[0m \u001b[0mdf_dex\u001b[0m\u001b[0;34m,\u001b[0m \u001b[0mdf_cex\u001b[0m\u001b[0;34m)\u001b[0m\u001b[0;34m\u001b[0m\u001b[0;34m\u001b[0m\u001b[0m\n\u001b[0m",
      "\u001b[0;31mNameError\u001b[0m: name 'isArbitrageur' is not defined"
     ]
    }
   ],
   "source": [
    "x = '0xe37e799d5077682fa0a244d46e5649f71457bd09'\n",
    "isArbitrageur(x, df_dex, df_cex)"
   ]
  },
  {
   "cell_type": "code",
   "execution_count": null,
   "id": "23533779-a1bb-4256-8d84-bb91f99ca68a",
   "metadata": {},
   "outputs": [],
   "source": [
    "df_trader_classification = pd.DataFrame(list(trader_classification.items()), columns=['Sender', 'Classification'])\n",
    "df_trader_classification.to_csv('trader_classification.csv', index=False)"
   ]
  },
  {
   "cell_type": "code",
   "execution_count": null,
   "id": "b12e94fd-78d0-4702-a12a-fc5073fc2166",
   "metadata": {},
   "outputs": [],
   "source": []
  }
 ],
 "metadata": {
  "kernelspec": {
   "display_name": "Python 3 (ipykernel)",
   "language": "python",
   "name": "python3"
  },
  "language_info": {
   "codemirror_mode": {
    "name": "ipython",
    "version": 3
   },
   "file_extension": ".py",
   "mimetype": "text/x-python",
   "name": "python",
   "nbconvert_exporter": "python",
   "pygments_lexer": "ipython3",
   "version": "3.9.13"
  }
 },
 "nbformat": 4,
 "nbformat_minor": 5
}
