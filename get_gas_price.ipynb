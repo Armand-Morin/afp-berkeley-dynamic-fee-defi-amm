{
 "cells": [
  {
   "cell_type": "code",
   "execution_count": 8,
   "metadata": {},
   "outputs": [],
   "source": [
    "from web3 import Web3\n",
    "import json\n",
    "from tqdm import tqdm\n",
    "import os\n",
    "import pandas as pd\n",
    "\n",
    "infura_url = 'https://mainnet.infura.io/v3/b7b06ad6a7304e2197efa10b79e1c867'\n",
    "web3 = Web3(Web3.HTTPProvider(infura_url))"
   ]
  },
  {
   "cell_type": "code",
   "execution_count": 19,
   "metadata": {},
   "outputs": [],
   "source": [
    "data_p1 = pd.read_pickle('data/Merged_CEX_DEX_v2_p1.pkl')\n",
    "data_p2 = pd.read_pickle('data/Merged_CEX_DEX_v2_p2.pkl')\n",
    "data_p3 = pd.read_pickle('data/Merged_CEX_DEX_v2_p3.pkl')\n",
    "\n",
    "data_p1['time'] = pd.to_datetime(data_p1['time'])\n",
    "data_p2['time'] = pd.to_datetime(data_p2['time'])\n",
    "data_p3['time'] = pd.to_datetime(data_p3['time'])\n",
    "\n",
    "data = pd.concat([data_p1, data_p2, data_p3])\n",
    "data = data.sort_values('time')"
   ]
  },
  {
   "cell_type": "code",
   "execution_count": 20,
   "metadata": {},
   "outputs": [],
   "source": [
    "with open('gas_prices.json', 'r') as file:\n",
    "    gas_price_eth = json.load(file)"
   ]
  },
  {
   "cell_type": "code",
   "execution_count": 17,
   "metadata": {},
   "outputs": [
    {
     "data": {
      "text/plain": [
       "9077"
      ]
     },
     "execution_count": 17,
     "metadata": {},
     "output_type": "execute_result"
    }
   ],
   "source": []
  },
  {
   "cell_type": "code",
   "execution_count": 23,
   "metadata": {},
   "outputs": [
    {
     "name": "stderr",
     "output_type": "stream",
     "text": [
      "  0%|          | 11/120132 [00:04<12:25:02,  2.69it/s]"
     ]
    }
   ],
   "source": [
    "block_numbers = list(data.blockNumber.unique())  # Replace with actual list\n",
    "\n",
    "gas_price_eth = {}\n",
    "\n",
    "if os.path.exists('gas_prices.json'):\n",
    "    with open('gas_prices.json', 'r') as file:\n",
    "        gas_price_eth = json.load(file)\n",
    "\n",
    "for block_number in tqdm(list(set(data.blockNumber.unique()) - set(gas_price_eth.keys()))):\n",
    "    if block_number not in gas_price_eth.keys():  # Skip if already calculated\n",
    "        block = web3.eth.get_block(int(block_number), full_transactions=True)\n",
    "        if block and 'transactions' in block:\n",
    "            total_gas_price = sum(tx['gasPrice'] * 10**-18 for tx in block['transactions'])\n",
    "            average_gas_price = total_gas_price / len(block['transactions']) if block['transactions'] else 0\n",
    "            gas_price_eth[block_number] = float(average_gas_price)\n",
    "            \n",
    "        gas_price_eth_str_keys = {str(key): value for key, value in gas_price_eth.items()}\n",
    "        \n",
    "        # Periodically save the dictionary to avoid losing data\n",
    "        if len(gas_price_eth_str_keys) % 10 == 0:\n",
    "            with open('gas_prices.json', 'w') as file:\n",
    "                json.dump(gas_price_eth_str_keys, file)\n",
    "\n",
    "# Final save to ensure no data is lost\n",
    "with open('gas_prices.json', 'w') as file:\n",
    "    json.dump(gas_price_eth_str_keys, file)"
   ]
  },
  {
   "cell_type": "code",
   "execution_count": null,
   "metadata": {},
   "outputs": [],
   "source": []
  }
 ],
 "metadata": {
  "kernelspec": {
   "display_name": "base",
   "language": "python",
   "name": "python3"
  },
  "language_info": {
   "codemirror_mode": {
    "name": "ipython",
    "version": 3
   },
   "file_extension": ".py",
   "mimetype": "text/x-python",
   "name": "python",
   "nbconvert_exporter": "python",
   "pygments_lexer": "ipython3",
   "version": "3.9.16"
  }
 },
 "nbformat": 4,
 "nbformat_minor": 2
}
